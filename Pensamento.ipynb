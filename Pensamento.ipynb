{
  "nbformat": 4,
  "nbformat_minor": 0,
  "metadata": {
    "colab": {
      "name": "Untitled0.ipynb",
      "provenance": [],
      "authorship_tag": "ABX9TyMi6Pus5KrC9QO4UHf80jtz",
      "include_colab_link": true
    },
    "kernelspec": {
      "name": "python3",
      "display_name": "Python 3"
    },
    "language_info": {
      "name": "python"
    }
  },
  "cells": [
    {
      "cell_type": "markdown",
      "metadata": {
        "id": "view-in-github",
        "colab_type": "text"
      },
      "source": [
        "<a href=\"https://colab.research.google.com/github/EduardoPereiradeCarvalho/Formul-rio/blob/main/Pensamento.ipynb\" target=\"_parent\"><img src=\"https://colab.research.google.com/assets/colab-badge.svg\" alt=\"Open In Colab\"/></a>"
      ]
    },
    {
      "cell_type": "code",
      "execution_count": 5,
      "metadata": {
        "colab": {
          "base_uri": "https://localhost:8080/"
        },
        "id": "w_ete7SvEqE6",
        "outputId": "18a4fde6-af14-4a97-da95-f6f91cef1748"
      },
      "outputs": [
        {
          "output_type": "stream",
          "name": "stdout",
          "text": [
            "Digite a primeira nota: 5\n",
            "Digite a segunda nota: 5\n",
            "A média das notas foi:  5.0\n",
            "Em recuperção\n"
          ]
        }
      ],
      "source": [
        "nota1 = (float(input(\"Digite a primeira nota: \")))\n",
        "nota2 = (float(input(\"Digite a segunda nota: \")))\n",
        "media = (nota1+nota2) / 2\n",
        "print(\"A média das notas foi: \", media)\n",
        "if (media >= 7):\n",
        "  print(\"Aprovado!\")\n",
        "else:\n",
        "  print(\"Em recuperção\")"
      ]
    }
  ]
}