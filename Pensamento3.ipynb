{
  "nbformat": 4,
  "nbformat_minor": 0,
  "metadata": {
    "colab": {
      "name": "Untitled0.ipynb",
      "provenance": [],
      "authorship_tag": "ABX9TyMt3EROsn6qgPkGugGbRPGb",
      "include_colab_link": true
    },
    "kernelspec": {
      "name": "python3",
      "display_name": "Python 3"
    },
    "language_info": {
      "name": "python"
    }
  },
  "cells": [
    {
      "cell_type": "markdown",
      "metadata": {
        "id": "view-in-github",
        "colab_type": "text"
      },
      "source": [
        "<a href=\"https://colab.research.google.com/github/EduardoPereiradeCarvalho/Formul-rio/blob/main/Pensamento3.ipynb\" target=\"_parent\"><img src=\"https://colab.research.google.com/assets/colab-badge.svg\" alt=\"Open In Colab\"/></a>"
      ]
    },
    {
      "cell_type": "code",
      "source": [
        ""
      ],
      "metadata": {
        "id": "zAsP4DAsLP9u"
      },
      "execution_count": null,
      "outputs": []
    },
    {
      "cell_type": "markdown",
      "source": [
        ""
      ],
      "metadata": {
        "id": "gSmRLQ37LQ7l"
      }
    },
    {
      "cell_type": "code",
      "source": [
        "while True:\n",
        "  nome = input(\"Digite o nome do atleta (ou Enter para encerrar o programa)\")\n",
        "  if nome == \"\":\n",
        "    break\n",
        "  atleta = {\n",
        "      \"nome\": nome,\n",
        "      \"saltos\": [],\n",
        "      \"media\": 0,\n",
        "      \"melhor_salto\": 0,\n",
        "      \"pior_salto\": 0,\n",
        "  }\n",
        "  for i in range(5):\n",
        "    atleta.get(\"saltos\").append(float(input(f\"Distância do {i+1}º salto: \")))\n",
        "    atleta.get(\"saltos\").sort()\n",
        "    atleta[\"pior_salto\"] = atleta.get(\"saltos\").pop(0)\n",
        "    atleta[\"melhor_salto\"] = atleta.get(\"saltos\").pop()\n",
        "    atleta[\"media\"] = sum(atleta.get(\"saltos\")) / 3\n",
        "\n",
        "    print(\n",
        "        f\"\\nMelhor Salto: {atleta.get('melhor_salto'):.1f} m\"\n",
        "        \n",
        "    )"
      ],
      "metadata": {
        "id": "ZZqbKKcQLRgN"
      },
      "execution_count": null,
      "outputs": []
    }
  ]
}